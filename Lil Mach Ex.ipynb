{
 "cells": [
  {
   "cell_type": "code",
   "execution_count": 1,
   "metadata": {
    "collapsed": false
   },
   "outputs": [],
   "source": [
    "structures = [:none, :hous, :scho, :shop, :offi, :manu]\n",
    "cost = Dict(zip(structures, [0 2 4 3 9 7]))\n",
    "eco_out = Dict(zip(structures, [0 0 -2 2 6 7]))\n",
    "attract = Dict(zip(structures, [0 2 6 2 1 -1]))\n",
    "\n",
    "M = 10 # Height of Array\n",
    "N = 10 # Length of Array\n",
    "\n",
    "# Starting map\n",
    "noneStart = fill(1, M, N)\n",
    "housStart = fill(0, M, N)\n",
    "schoStart = fill(0, M, N)\n",
    "shopStart = fill(0, M, N)\n",
    "offiStart = fill(0, M, N)\n",
    "manuStart = fill(0, M, N)\n",
    "\n",
    "initial_map = Dict(zip(structures, [noneStart, housStart, schoStart, shopStart, offiStart, manuStart])) # fill(:none, N, M)\n",
    "\n",
    "# Edge Values\n",
    "# noneEV = Dict(zip(structures, [0 0 -10 -5  0  5]))\n",
    "# housEV = Dict(zip(structures, [0 1   1  0 -1 -2]))\n",
    "\n",
    "\n",
    "budget = 500\n",
    "pop = 200\n",
    "\n",
    "# println(initial_map)\n",
    ";"
   ]
  },
  {
   "cell_type": "code",
   "execution_count": 3,
   "metadata": {
    "collapsed": false
   },
   "outputs": [
    {
     "data": {
      "text/plain": [
       "printMap (generic function with 1 method)"
      ]
     },
     "execution_count": 3,
     "metadata": {},
     "output_type": "execute_result"
    }
   ],
   "source": [
    "function printMap(map) # List of 1's and zeros for each structure\n",
    "    real_map = fill(:none, M, N)\n",
    "    for s in structures\n",
    "        for i = 1:M\n",
    "            for j = 1:N\n",
    "                if map[s, i, j] > 0\n",
    "                    real_map[i, j] = s \n",
    "                end\n",
    "            end\n",
    "        end\n",
    "    end\n",
    "\n",
    "    for i = 1:M\n",
    "        for j = 1:N\n",
    "            print(real_map[i, j], \"\\t\")\n",
    "        end\n",
    "        println()\n",
    "    end\n",
    "end\n",
    ";"
   ]
  },
  {
   "cell_type": "code",
   "execution_count": 4,
   "metadata": {
    "collapsed": false
   },
   "outputs": [
    {
     "name": "stdout",
     "output_type": "stream",
     "text": [
      "438.0\n",
      "0.0\n",
      "offi\tmanu\toffi\tmanu\toffi\toffi\toffi\toffi\toffi\tmanu\t\n",
      "shop\toffi\toffi\tmanu\toffi\toffi\thous\tshop\tmanu\toffi\t\n",
      "hous\thous\thous\thous\thous\tmanu\tscho\toffi\tmanu\toffi\t\n",
      "hous\thous\thous\tmanu\thous\tshop\thous\toffi\thous\thous\t\n",
      "offi\toffi\thous\toffi\thous\tscho\toffi\tshop\thous\thous\t\n",
      "offi\thous\toffi\thous\toffi\thous\toffi\tmanu\thous\tscho\t\n",
      "offi\tscho\thous\tmanu\tshop\thous\tshop\toffi\tmanu\thous\t\n",
      "hous\thous\thous\thous\thous\thous\toffi\toffi\tmanu\tmanu\t\n",
      "shop\thous\thous\toffi\thous\tshop\thous\thous\tshop\thous\t\n",
      "shop\tshop\thous\toffi\thous\tshop\toffi\thous\tmanu\thous\t\n"
     ]
    }
   ],
   "source": [
    "using JuMP, Cbc\n",
    "\n",
    "m = Model(solver = CbcSolver())\n",
    "\n",
    "# Variables\n",
    "# Each structure keeps track of its own buildings and where they are. i = x coord while j = y coord\n",
    "@variable(m, objMap[structures, 1:M, 1:N], Bin)\n",
    "# Indicates change from prior map\n",
    "@variable(m, change[structures, 1:M, 1:N], Bin) \n",
    "# Amount spent on stuff\n",
    "@variable(m, spending[1:M, 1:N] >= 0) \n",
    "# Economic Output of area\n",
    "@variable(m, ecoOut[1:M, 1:N]) \n",
    "# Attractiveness of the area\n",
    "@variable(m, attrac[1:M, 1:N]) \n",
    "\n",
    "# Constraints\n",
    "\n",
    "# Can't go overbudget\n",
    "@constraint(m, sum(spending) <= budget)\n",
    "\n",
    "for i = 1:M\n",
    "    for j = 1:N\n",
    "        \n",
    "        # Buildings cannot share same location\n",
    "        @constraint(m, sum(objMap[s, i, j] for s in structures) == 1)\n",
    "#         end\n",
    "        \n",
    "        # Change happens if they are diferent. Constrained for absolute value\n",
    "        for s in structures\n",
    "                @constraint(m, objMap[s, i, j] - initial_map[s][i, j] <= change[s, i, j] )\n",
    "                @constraint(m, objMap[s, i, j] - initial_map[s][i, j] >= -change[s, i, j] )\n",
    "        end # Needed\n",
    "        \n",
    "        # Spending is based on new buildings\n",
    "        @constraint(m, spending[i, j] == sum(change[s, i, j]*cost[s] for s in structures))\n",
    "#         end\n",
    "        \n",
    "        # Economic output is based on sum of buildings there\n",
    "        @constraint(m, ecoOut[i, j] == sum(objMap[s, i, j]*eco_out[s] for s in structures))\n",
    "#         end\n",
    "        \n",
    "        # Attractiveness is based on sum of buildings there\n",
    "        @constraint(m, attrac[i, j] == sum(objMap[s, i, j]*attract[s] for s in structures))\n",
    "#         end\n",
    "    end\n",
    "end\n",
    "\n",
    "@constraint(m, sum(objMap[:hous, i, j] for i = 1:M, j = 1:N) >= pop/5)\n",
    "# end\n",
    "@constraint(m, sum(objMap[:scho, i, j] for i = 1:M, j = 1:N) >= pop/50)\n",
    "# end\n",
    "\n",
    "\n",
    "# Objective\n",
    "#         @objective(m, Max, sum(change))\n",
    "@objective(m, Max, sum(ecoOut) + sum(attrac))\n",
    "\n",
    "solve(m)\n",
    "                    \n",
    "println(getobjectivevalue(m))\n",
    "println(budget - sum(getvalue(spending)))\n",
    "                    \n",
    "opt_map = getvalue(objMap)\n",
    "printMap(opt_map)"
   ]
  },
  {
   "cell_type": "code",
   "execution_count": null,
   "metadata": {
    "collapsed": true
   },
   "outputs": [],
   "source": []
  }
 ],
 "metadata": {
  "kernelspec": {
   "display_name": "Julia 0.6.2",
   "language": "julia",
   "name": "julia-0.6"
  },
  "language_info": {
   "file_extension": ".jl",
   "mimetype": "application/julia",
   "name": "julia",
   "version": "0.6.2"
  }
 },
 "nbformat": 4,
 "nbformat_minor": 0
}
