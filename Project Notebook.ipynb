{
 "cells": [
  {
   "cell_type": "markdown",
   "metadata": {},
   "source": [
    "### CS/ECE/ISyE 524 &mdash; Introduction to Optimization &mdash; Spring 2018 ###\n",
    "\n",
    "# Megapolis #\n",
    "\n",
    "#### Sam Berglin(berglin@wisc.edu), Aiden Song (aiden@cs.wisc.edu), Rachel Sowada(rsowada@wisc.edu), and Andrew Eng(ateng@wisc.edu)\n",
    "\n",
    "*****\n",
    "\n",
    "### Table of Contents\n",
    "\n",
    "1. [Introduction](#1.-Introduction)\n",
    "1. [Mathematical Model](#2.-Mathematical-model)\n",
    "1. [Solution](#3.-Solution)\n",
    "1. [Results and Discussion](#4.-Results-and-discussion)\n",
    "  1. [Optional Subsection](#4.A.-Feel-free-to-add-subsections)\n",
    "1. [Conclusion](#5.-Conclusion)"
   ]
  },
  {
   "cell_type": "markdown",
   "metadata": {
    "collapsed": true
   },
   "source": [
    "## 1. Introduction ##\n",
    "\n",
    "The first few sentences should give a quick overview of the entire project. Then, elaborate with a description of the problem that will be solved, a brief history (with [citations](https://en.wikipedia.org/wiki/Citation)) of how the problem came about, why it's important/interesting, and any other interesting facts you'd like to talk about. You should address and explain where the problem data is coming from (research? the internet? synthetically generated?) Also give an outline of the rest of the report.\n",
    "\n",
    "This section should be 300-600 words long, and **should be accessible to a general audience** (don't assume your reader has taken the class!). Feel free to include images if you think it'll be helpful:\n",
    "\n",
    "![fixit flowchart][flow]\n",
    "\n",
    "For more help on using Markdown, see [this reference](https://github.com/adam-p/markdown-here/wiki/Markdown-Cheatsheet).\n",
    "\n",
    "[flow]: https://s-media-cache-ak0.pinimg.com/736x/f5/75/c5/f575c53b93724808c6f0211890a54900.jpg"
   ]
  },
  {
   "cell_type": "markdown",
   "metadata": {
    "collapsed": true
   },
   "source": [
    "## 2.1 Toy Mathematical Model ##\n",
    "\n",
    "Our model can be represented as the mixed integer program (MIP),  \n",
    "<br/>\n",
    "\n",
    "<center>\n",
    "$\\begin{equation*}\n",
    "\\begin{aligned}\n",
    "& \\underset{x}{\\text{maximize}}\n",
    "& & x^T(P + A) \\\\\n",
    "& \\text{subject to}\n",
    "& & x \\geq p \\cdot X_{min} \\\\\n",
    "&&& B \\geq x^TC \\\\\n",
    "\\end{aligned}\n",
    "\\end{equation*}$\n",
    "</center>\n",
    "<br/>\n",
    "  \n",
    "  In our model, $x = (x_1, x_2, ..., x_t)$ represents a vector of the number of each of the t types of buildings possible. Clearly, each of these values are integers.  \n",
    "  \n",
    "  $P, A, \\text{and } C$ also represent similar quanitities, where $P = (p_1, p_2, ... p_n)$ and similar for $A$ and $C$. They are also t-dimensional vectors with the ith entry corresponding to the ith type of building. For a given building type i, $c_i$ represents the cost of constructing a building, $p_i$ represents the annual profit, and $a_i$ represents the attractiveness. In our simple model, we measure each of these for a building on a scale from -10 to 10. Negative numbers represent cost rather than profit, and \"ugliness\" rather than attractiveness (note: there cannot be a negative cost for constructing a building).  \n",
    "  \n",
    "  $X_{\\text{min}}$ represents the minimum per person requirements for each building. Like $x$, it is t-dimensional for each of the minimum requirements for the t buildings. For clarity, we represent $X_{\\text{min}}$ in number of buildings per 1,000 people. Furthermore, $p$ represents the number of people or population the city must be able to support.\n",
    "  \n",
    "  Since our decision variables (the number of buildings) must be positive integers, the problem is a MIP. In our model, we essentially are trying the maximize the annual \"value\" of a city given a certain budget for **completely** constructing it."
   ]
  },
  {
   "cell_type": "markdown",
   "metadata": {},
   "source": [
    "# 2.2 Zoning  \n",
    "  \n",
    "  Obviously, choosing what buildings to build is not the entirety of how buildings are planned. We must choose where to place them, while still maintaining Level I's requirements.\n",
    "  \n",
    "  Consider the possible \"world\" to be an nxn board called $W$. $W[i,j]$ corresponds to the type of building built at location $[i,j]$ of the world. Given T types of possible buildings, we can have a one hot encoded vector $w_{i,j}=(0,0,..., 0, 1, 0, ..., 0)$ at each $W[i,j]$. The 1 at position $k$ of $w_{i,j}$ indicates that building type $k$ is built at $i,j$. We denote position $k$ of $w_{i,j}$ as $w_{i,j}^k$. We still have a similar $P$ and $A$ matrices. We represent our problem as below. We will explain the purpose of each constraint and notation afterwards.\n",
    "  \n",
    "<br/>\n",
    "<center>\n",
    "$\\begin{equation*}\n",
    "\\begin{aligned}\n",
    "& \\underset{w_{i,j} \\in W}{\\text{maximize}}\n",
    "& & \\sum_{w_{i,j} \\in W}t^T(P + A) \\\\\n",
    "& \\text{subject to}\n",
    "& &  \\forall b_{i,j} \\in B, w_{i,j} \\in W_\\text{base} : w_{i,j} = b_{i,j} \\space\\space (A)\\\\\n",
    "&&& \\sum_{w_{i,j} \\in W} w_{i, j} \\geq X_\\text{min} \\cdot p \\div 1000  \\space\\space (B)\\\\\n",
    "&&& \\sum_{w_{i,j} \\in W} t^T C \\leq B \\space\\space (C)\\\\\n",
    "&&& \\forall w_{i,j} \\in W \\sum_{1 = k}^{T} w_{i,j}^k \\leq 1 \\space\\space (D)\\\\\n",
    "&&& \\forall w_{i,j} \\in W_\\text{inner} : w_{i,j} \\leq w_{i-1,j} + w_{i,j-1} + w_{i+1,j} + w_{i,j+1} \\space\\space (E)\\\\\n",
    "&&& \\sum_{w_{i,j} \\in W} (4w_{i,j} - w_{i-1,j} - w_{i+1,j} - w_{i,j+1} - w_{i,j-1}) \\leq R \\cdot \\sum_{w_{i,j} \\in W} w_{i,j} \\space\\space (F)\\\\\n",
    "\\end{aligned}\n",
    "\\end{equation*}$\n",
    "</center>\n",
    "<br/>\n",
    "<br/>\n",
    "\n",
    "  (A) This constraint ensures that the base city exists in the middle of the map and that the outside (or border) of the world is empty. The base city exists so that the next iteration can grow from it, and the border being empty aids in perimeter calculation in constraint F.\n",
    "  \n",
    "  (B) This constraint ensures that the population is suported by the proper number of buildings. It is the same as the toy example.\n",
    "  \n",
    "  (C) This constraint ensures that the budget is respected. It is the same as the toy example.\n",
    "  \n",
    "  (D) This constraint ensures that each vector $w_{i,j}$ can have at most one 1 and the remainder are zeros. This ensures that there is only one \"type\" of building assigned to each square of the world.\n",
    "  \n",
    "  (E) This is the first nontrivial constraint. It causes a phenomenon of zoning. Zoning is where certain areas of a community are reserved for certain types of buildings. For example, there can be residential zones or business zones. In order to implement this into our example, we ensure that each type of buildings must form a **continguous** area. This is represented in the constraint by not letting type $k$ of a building be built **unless** there is one of type $k$ surrounding it. $W_\\text{inner}$ represents the inner world (i.e. the world without the border). We only sum over these squares since the border is defined to be zero.\n",
    "  \n",
    "  (F) This constraint builds upon constraint (E). As a whole, it prevents regions from being strangley shaped by ensuring a proper ratio of perimeter to area. The expression on the left calculates a T dimensional vector representing the perimeter of each of the contiguous building regions. The right side's summation calculates the area of the continguous building regions. The corresponding ratio is represented by $R$."
   ]
  },
  {
   "cell_type": "markdown",
   "metadata": {},
   "source": [
    "# Zoning Code "
   ]
  },
  {
   "cell_type": "code",
   "execution_count": 91,
   "metadata": {},
   "outputs": [],
   "source": [
    "# data\n",
    "building_types = [\"business\", \"hospital\", \"park\", \"farm\", \"school\", \"home\"]\n",
    "num_types = length(building_types)\n",
    "# we converted profits, and attractiveness on a scale from -10 to 10\n",
    "cost = [20,100,30,20,60,4]\n",
    "profits = [9,-3,-1,6,-4,1]\n",
    "attractiveness = [4,-1,3,-5,6,2]\n",
    "min_num_building_per_1kPeople = [5,1,3,1,1,10]\n",
    "N = 6\n",
    "numType = size(building_types,1)\n",
    "\n",
    "base = zeros(N,N,numType)\n",
    "base[1,5,5] = 1\n",
    "base[6,1,5] = 1\n",
    "base[5,5,6] = 1\n",
    "base[2,3,1] = 1\n",
    "#= base = [\n",
    "    [0 0 0 0 0 0], [0 0 0 0 0 0], [0 0 0 0 0 0], [0 0 0 0 0 0], [0 0 0 0 1 0], [0 0 0 0 0 0],\n",
    "    [0 0 0 0 0 0], [1 0 0 0 0 0], [0 0 0 0 0 0], [0 0 0 0 0 0], [0 0 0 0 0 0], [0 0 0 0 0 0],\n",
    "    [0 0 0 0 0 0], [0 0 0 0 0 0], [0 0 0 0 0 0], [0 0 0 0 0 0], [0 0 0 0 0 0], [0 0 0 0 0 0],\n",
    "    [0 0 0 0 0 0], [0 0 0 0 0 0], [0 0 0 0 0 0], [0 0 0 0 0 0], [0 0 0 0 0 0], [0 0 0 0 0 0],\n",
    "    [0 0 0 0 0 0], [0 0 0 0 0 0], [0 0 0 0 0 0], [0 0 0 0 0 0], [0 0 0 0 0 1], [0 0 0 0 0 0],\n",
    "    [0 0 0 0 1 0], [0 0 0 0 0 0], [0 0 0 0 0 0], [0 0 0 0 0 0], [0 0 0 0 0 0], [0 0 0 0 0 0],\n",
    "]\n",
    "=#\n",
    ";"
   ]
  },
  {
   "cell_type": "code",
   "execution_count": 92,
   "metadata": {},
   "outputs": [
    {
     "name": "stdout",
     "output_type": "stream",
     "text": [
      "Academic license - for non-commercial use only\r\n",
      "park\thospital\thome\tpark\tschool\thome\t\n",
      "home\thome\tbusiness\thome\tbusiness\thome\t\n",
      "business\tbusiness\tbusiness\tbusiness\thome\tbusiness\t\n",
      "business\tbusiness\tbusiness\tbusiness\tbusiness\thome\t\n",
      "home\tbusiness\tbusiness\tbusiness\thome\tbusiness\t\n",
      "school\tbusiness\tbusiness\tbusiness\tpark\tfarm\t\n"
     ]
    }
   ],
   "source": [
    "using JuMP, Gurobi\n",
    "# assume that we have population of 10,000 people\n",
    "population = 10\n",
    "# assume that we have a budget of \n",
    "budgets = 1000\n",
    "\n",
    "m = Model(solver = GurobiSolver(OutputFlag = 0))\n",
    "@variable(m, x[1:N, 1:N, 1:numType], Bin)\n",
    "\n",
    "# can't have more than one building in a spot\n",
    "@constraint(m, flow[i in 1:N, j in 1:N], sum(x[i,j,:]) <= 1)  \n",
    "\n",
    "# buildings in the base must stay (for now)\n",
    "@constraint(m, flow1[i in 1:N, j in 1:N, k in 1:numType],x[i,j,k] >= base[i,j,k])\n",
    "\n",
    "# meet the minimum number per building\n",
    "@constraint(m, flow2[i in 1:numType], sum(x[:,:,i]) >= min_num_building_per_1kPeople[i])\n",
    "\n",
    "# Stay within the given budget \n",
    "@constraint(m, sum((sum(x[:,:,k]) - sum(base[:,:,k]))*cost[k] for k in 1:numType) <= budgets)  \n",
    "\n",
    "# Zoning constraint 1 \n",
    "@constraint(m, flow3[i in 2:N-1, j in 2:N-1, k in 1:numType], x[i,j,k] <= x[i-1,j-1,k] + x[i-1,j+1,k] + x[i+1,j-1,k] + x[i+1,j+1,k])\n",
    "\n",
    "# TO DO Zoning Constraint 2 \n",
    "\n",
    "\n",
    "@expression(m, totalProfit, sum(sum(x[:,:,k])*profits[k] for k in 1:numType))\n",
    "@expression(m, totalAttractiveness, sum(sum(x[:,:,k])*attractiveness[k] for k in 1:numType))\n",
    "\n",
    "@objective(m, Max, totalProfit + totalAttractiveness)\n",
    "status = solve(m)\n",
    "printMap(getvalue(x), N,N,numType)\n"
   ]
  },
  {
   "cell_type": "code",
   "execution_count": 89,
   "metadata": {},
   "outputs": [
    {
     "data": {
      "text/plain": [
       "printMap (generic function with 1 method)"
      ]
     },
     "execution_count": 89,
     "metadata": {},
     "output_type": "execute_result"
    }
   ],
   "source": [
    "function printMap(map, N, M, P)\n",
    "    \n",
    "    for i =1:N\n",
    "       for j = 1:M\n",
    "            for k = 1:P\n",
    "                if(map[i,j,k] == 1)\n",
    "                    print(building_types[k])\n",
    "                    break; \n",
    "                end\n",
    "            end\n",
    "            print(\"\\t\")\n",
    "        end\n",
    "        print(\"\\n\")\n",
    "    end\n",
    "    \n",
    "end"
   ]
  },
  {
   "cell_type": "markdown",
   "metadata": {
    "collapsed": true
   },
   "source": [
    "## 3. Solution ##\n",
    "\n",
    "Here, you should code up your model in Julia + JuMP and solve it. Your code should be clean, easy to read, well annotated and commented, and it should compile! You are not allowed to use other programming languages or DCP packages such as `convex.jl`. **I will be running your code**. I suggest having multiple code blocks separated by text blocks that explain the various parts of your solution. You may also solve several versions of your problem with different models/assumptions.\n",
    "\n",
    "It's fine to call external packages such as `Gurobi`, but try to minimize the use of exotic libraries."
   ]
  },
  {
   "cell_type": "code",
   "execution_count": 1,
   "metadata": {},
   "outputs": [],
   "source": [
    "# data\n",
    "building_types = [\"business\", \"hospital\", \"park\", \"farm\", \"school\", \"home\"]\n",
    "num_types = length(building_types)\n",
    "# we converted profits, and attractiveness on a scale from -10 to 10\n",
    "cost = [20000,100000,3000,2000,60000,400]\n",
    "profits = [9,-3,-1,6,-4,1]\n",
    "attractiveness = [4,-1,3,-5,6,2]\n",
    "min_num_building_per_1kPeople = [5,1,3,1,1,333]\n",
    ";"
   ]
  },
  {
   "cell_type": "code",
   "execution_count": 2,
   "metadata": {},
   "outputs": [
    {
     "name": "stdout",
     "output_type": "stream",
     "text": [
      "Academic license - for non-commercial use only\n",
      "\n",
      "Number of business to build: 50.0\n",
      "Number of hospital to build: 10.0\n",
      "Number of park to build: 30.0\n",
      "Number of farm to build: 10.0\n",
      "Number of school to build: 10.0\n",
      "Number of home to build: 18225.0\n",
      "At the budgets of $10000000 the objective would be 55375.0\n"
     ]
    }
   ],
   "source": [
    "using JuMP, Gurobi\n",
    "\n",
    "m = Model(solver=GurobiSolver(OutputFlag=0))\n",
    "\n",
    "# assume that we have population of 10,000 people\n",
    "population = 10\n",
    "# assume that we have a budget of \n",
    "budgets = 10000000\n",
    "\n",
    "@variable(m, buildings[1:6],Int)\n",
    "@constraint(m,var[i = 1:6], buildings[i] >= min_num_building_per_1kPeople[i] * population)\n",
    "@constraint(m, dot(cost,buildings) <= budgets)\n",
    "@objective(m, Max,buildings'*(profits + attractiveness))\n",
    "\n",
    "s = solve(m)\n",
    "println()\n",
    "# get the values of the number of buildings vector\n",
    "building = getvalue(buildings)\n",
    "for b = 1:6\n",
    "    println(\"Number of \",building_types[b],\" to build: \", building[b])\n",
    "end\n",
    "println(\"At the budgets of \\$\", budgets, \" the objective would be \", getobjectivevalue(m))"
   ]
  },
  {
   "cell_type": "markdown",
   "metadata": {},
   "source": [
    "Remember to make sure your code compiles! I will be running your code!"
   ]
  },
  {
   "cell_type": "markdown",
   "metadata": {
    "collapsed": true
   },
   "source": [
    "## 4. Results and discussion ##\n",
    "\n",
    "Here, you display and discuss the results. Show figures, plots, images, trade-off curves, or whatever else you can think of to best illustrate your results. The discussion should explain what the results mean, and how to interpret them. You should also explain the limitations of your approach/model and how sensitive your results are to the assumptions you made.\n",
    "\n",
    "Use plots (see `PyPlot` examples from class), or you can display results in a table like this:\n",
    "\n",
    "| Tables        | Are           | Cool  |\n",
    "| ------------- |:-------------:| -----:|\n",
    "| col 3 is      | right-aligned |\\$1600 |\n",
    "| col 2 is      | centered      |  \\$12 |\n",
    "| zebra stripes | are neat      |   \\$1 |\n",
    "\n",
    "### 4.A. Feel free to add subsections\n",
    "\n",
    "#### 4.A.a. or subsubsections"
   ]
  },
  {
   "cell_type": "markdown",
   "metadata": {
    "collapsed": true
   },
   "source": [
    "## 5. Conclusion ##\n",
    "\n",
    "Summarize your findings and your results, and talk about at least one possible future direction; something that might be interesting to pursue as a follow-up to your project."
   ]
  },
  {
   "cell_type": "code",
   "execution_count": null,
   "metadata": {
    "collapsed": true
   },
   "outputs": [],
   "source": []
  }
 ],
 "metadata": {
  "kernelspec": {
   "display_name": "Julia 0.6.2",
   "language": "julia",
   "name": "julia-0.6"
  },
  "language_info": {
   "file_extension": ".jl",
   "mimetype": "application/julia",
   "name": "julia",
   "version": "0.6.2"
  }
 },
 "nbformat": 4,
 "nbformat_minor": 1
}
